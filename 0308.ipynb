{
 "cells": [
  {
   "attachments": {},
   "cell_type": "markdown",
   "metadata": {},
   "source": [
    "# 스켈레톤 코드(?)"
   ]
  },
  {
   "cell_type": "code",
   "execution_count": null,
   "metadata": {},
   "outputs": [],
   "source": [
    "import numpy as np\n",
    "def solution(key, lock):\n",
    "    # 자물쇠와 열쇠의 한변의 크기\n",
    "    \n",
    "    # 정답 배열 선언\n",
    "    \n",
    "    # padding_size\n",
    "    \n",
    "    # numpy type의 key 및 lock 선언 lock의 경우 key로 순회가 가능하도록 padding\n",
    "    \n",
    "    #lock의 한변의 크기\n",
    "    \n",
    "    # Key 4번 회전\n",
    "    \n",
    "    \n",
    "        # lock의 모든 공간 (행과 열) 을 순회하며 key를 더한 경우에 대해 탐색\n",
    "\n",
    "\n",
    "\n",
    "                # 정답 체크 후 정답이면, True 리턴\n",
    "\n",
    "\n",
    "\n",
    "                # 정답이 아닌 경우, lock 초기화\n",
    "\n",
    "\n",
    "\n",
    "    # 완전탐색 후 정답이 없다면, False 리턴\n",
    "    return False"
   ]
  },
  {
   "attachments": {},
   "cell_type": "markdown",
   "metadata": {},
   "source": [
    "# 정답 코드"
   ]
  },
  {
   "cell_type": "code",
   "execution_count": 1,
   "metadata": {},
   "outputs": [],
   "source": [
    "import numpy as np\n",
    "def solution(key, lock):\n",
    "    # 자물쇠와 열쇠의 한변의 크기\n",
    "    N, M = len(lock), len(key)\n",
    "    # 정답 배열 선언\n",
    "    correct = np.ones((N,N))\n",
    "    # padding_size\n",
    "    ps= M-1\n",
    "    # numpy type의 key 및 lock 선언 lock의 경우 key로 순회가 가능하도록 padding\n",
    "    key, lock = np.array(key), np.pad(np.array(lock), ((ps, ps), (ps, ps)))\n",
    "    #lock의 한변의 크기\n",
    "    len_l = len(lock)\n",
    "    # Key 4번 회전\n",
    "    for _ in range(4):\n",
    "        key = np.rot90(key)\n",
    "        # lock의 모든 공간을 순회하며 key를 더한 경우에 대해 탐색\n",
    "        for row in range(0, ps+N):\n",
    "            for col in range(0, ps+N):\n",
    "                lock[row:row+M, col:col+M] += key\n",
    "                # 정답 체크 후 정답이면, True 리턴\n",
    "                if np.array_equal(lock[ps:ps+N, ps:ps+N],correct):\n",
    "                    return True\n",
    "                # 정답이 아닌 경우, lock 초기화\n",
    "                else :\n",
    "                    lock[row:row+M, col:col+M] -= key\n",
    "    # 완전탐색 후 정답이 없다면, False 리턴\n",
    "    return False"
   ]
  }
 ],
 "metadata": {
  "kernelspec": {
   "display_name": "tf",
   "language": "python",
   "name": "python3"
  },
  "language_info": {
   "codemirror_mode": {
    "name": "ipython",
    "version": 3
   },
   "file_extension": ".py",
   "mimetype": "text/x-python",
   "name": "python",
   "nbconvert_exporter": "python",
   "pygments_lexer": "ipython3",
   "version": "3.9.7"
  },
  "orig_nbformat": 4,
  "vscode": {
   "interpreter": {
    "hash": "52ee2977380704a66854748a73250e0671a9318bd5b3fd45a3df9f851ae61629"
   }
  }
 },
 "nbformat": 4,
 "nbformat_minor": 2
}
